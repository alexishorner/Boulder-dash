{
 "cells": [
  {
   "cell_type": "markdown",
   "metadata": {},
   "source": [
    "# Journal de bord boulder dash"
   ]
  },
  {
   "cell_type": "markdown",
   "metadata": {},
   "source": [
    "## Classes:\n",
    "- carte (grille)\n",
    "- Bloc (hérite de sprite) \n",
    "    - dans le constructeur: taille des blocs\n",
    "        - méthode collision\n",
    "            - gère l'interaction entre les blocs.\n",
    "    - méthode bouger:    \n",
    "        - appelle méthode collision\n",
    "        - paramètre direction\n",
    "        \n",
    "- horloge délai fin de la boucle while\n",
    "- Personnage (hérite de bloc) : \n",
    "    - stock les 8 blocs autour de lui\n",
    "    - mange la terre et les diamants (poste un événement)\n",
    "        - collision: \n",
    "- Caillou (hérite de bloc):\n",
    "    - entraindetomber = True -> collide --> tue personnage\n",
    "- Terre (hérite de bloc):\n",
    "    - collide kill= True + renvoie score négatif\n",
    "- jeu :\n",
    "    - temps\n",
    "    - score\n",
    "    \n",
    "    \n",
    "## A penser\n",
    "- possibles collisions entre cases adjacentes si images de mauvaise taille"
   ]
  },
  {
   "cell_type": "code",
   "execution_count": null,
   "metadata": {},
   "outputs": [],
   "source": []
  },
  {
   "cell_type": "code",
   "execution_count": null,
   "metadata": {},
   "outputs": [],
   "source": []
  }
 ],
 "metadata": {
  "kernelspec": {
   "display_name": "Python 2",
   "language": "python",
   "name": "python2"
  },
  "language_info": {
   "codemirror_mode": {
    "name": "ipython",
    "version": 2
   },
   "file_extension": ".py",
   "mimetype": "text/x-python",
   "name": "python",
   "nbconvert_exporter": "python",
   "pygments_lexer": "ipython2",
   "version": "2.7.14"
  }
 },
 "nbformat": 4,
 "nbformat_minor": 2
}
